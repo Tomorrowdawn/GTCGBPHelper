{
 "cells": [
  {
   "cell_type": "code",
   "execution_count": 1,
   "id": "7979c029-c44f-4553-b1b6-935577a42a92",
   "metadata": {
    "tags": []
   },
   "outputs": [],
   "source": [
    "from helper import BanHelper, PickHelper"
   ]
  },
  {
   "cell_type": "code",
   "execution_count": 2,
   "id": "9d203519-819a-40eb-bdf5-01737794edc1",
   "metadata": {
    "tags": []
   },
   "outputs": [],
   "source": [
    "import numpy as np\n",
    "scoreboard = [[0.7,0.7,0.9,0.9,0.1],\n",
    "              [0.8,0.8, 0.9,0.9, 0.1],\n",
    "             [0.9,0.7,0.8,0.9,0.2],\n",
    "             [0.6,0.8,0.7,0.9,0.1],\n",
    "             [0.9,0.9,0.9,0.9,0.1]]\n",
    "scoreboard = np.array(scoreboard)\n",
    "bp_table = [[0.4,0.7,0.6,0.5],\n",
    "           [0.4,0.5,0.6,0.6],\n",
    "           [0.8,0.3,0.2,0.8],\n",
    "           [0.8,0.6,0.2,0.8]]\n",
    "tianji = [[0,1,1],\n",
    "           [0,0,1],\n",
    "          [0,0,0]]\n",
    "rps = [[0.5,0,1],\n",
    "           [1,0.5,0],\n",
    "          [0,1,0.5]]"
   ]
  },
  {
   "cell_type": "code",
   "execution_count": 3,
   "id": "3b690d21-ffba-47b7-88c5-a099fe2c52a8",
   "metadata": {
    "tags": []
   },
   "outputs": [
    {
     "name": "stdout",
     "output_type": "stream",
     "text": [
      "[[0.5 0.  1. ]\n",
      " [1.  0.5 0. ]\n",
      " [0.  1.  0.5]]\n",
      "reverse=\n",
      "[[0.5 1.  0. ]\n",
      " [0.  0.5 1. ]\n",
      " [1.  0.  0.5]]\n"
     ]
    }
   ],
   "source": [
    "scoreboard = np.random.rand(5,5)\n",
    "scoreboard = np.array(bp_table)\n",
    "scoreboard = np.array(rps)\n",
    "print(scoreboard)\n",
    "print(\"reverse=\")\n",
    "print(1-scoreboard)"
   ]
  },
  {
   "cell_type": "code",
   "execution_count": 4,
   "id": "f6efd317-5a66-4b9c-a26b-691ee582b9b8",
   "metadata": {
    "tags": []
   },
   "outputs": [
    {
     "name": "stdout",
     "output_type": "stream",
     "text": [
      "胜率: 0.5010222222222221\n"
     ]
    },
    {
     "data": {
      "text/plain": [
       "{0: 0.35505362375254784, 1: 0.3182812728200191, 2: 0.326665103427433}"
      ]
     },
     "execution_count": 4,
     "metadata": {},
     "output_type": "execute_result"
    }
   ],
   "source": [
    "picker = PickHelper(scoreboard)\n",
    "valids = list(range(len(scoreboard)))\n",
    "picker.pick(valids,valids, 2,2, 5000)"
   ]
  },
  {
   "cell_type": "code",
   "execution_count": 5,
   "id": "408bb3c5-acbb-4abc-bf72-64ae87925df3",
   "metadata": {
    "tags": []
   },
   "outputs": [
    {
     "name": "stdout",
     "output_type": "stream",
     "text": [
      "胜率: 0.5\n"
     ]
    },
    {
     "data": {
      "text/plain": [
       "{1: 4.5397868702434395e-05, 2: 0.9999546021312976}"
      ]
     },
     "execution_count": 5,
     "metadata": {},
     "output_type": "execute_result"
    }
   ],
   "source": [
    "picker.pick([1,2],[1,2], 1,1, 1000)"
   ]
  },
  {
   "cell_type": "code",
   "execution_count": null,
   "id": "f91461d9-86d3-46ac-aa3f-5b9a624487aa",
   "metadata": {},
   "outputs": [],
   "source": []
  }
 ],
 "metadata": {
  "kernelspec": {
   "display_name": "Python 3 (ipykernel)",
   "language": "python",
   "name": "python3"
  },
  "language_info": {
   "codemirror_mode": {
    "name": "ipython",
    "version": 3
   },
   "file_extension": ".py",
   "mimetype": "text/x-python",
   "name": "python",
   "nbconvert_exporter": "python",
   "pygments_lexer": "ipython3",
   "version": "3.8.8"
  }
 },
 "nbformat": 4,
 "nbformat_minor": 5
}
