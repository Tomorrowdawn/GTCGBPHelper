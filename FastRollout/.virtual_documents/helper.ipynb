from helper import BanHelper, PickHelper


import numpy as np
scoreboard = [[0.7,0.7,0.9,0.9,0.1],
              [0.8,0.8, 0.9,0.9, 0.1],
             [0.9,0.7,0.8,0.9,0.2],
             [0.6,0.8,0.7,0.9,0.1],
             [0.9,0.9,0.9,0.9,0.1]]
scoreboard = np.array(scoreboard)
bp_table = [[0.4,0.7,0.6,0.5],
           [0.4,0.5,0.6,0.6],
           [0.8,0.3,0.2,0.8],
           [0.8,0.6,0.2,0.8]]
tianji = [[0,1,1],
           [0,0,1],
          [0,0,0]]
rps = [[0.5,0,1],
           [1,0.5,0],
          [0,1,0.5]]


scoreboard = np.random.rand(5,5)
scoreboard = np.array(bp_table)
scoreboard = np.array(rps)
print(scoreboard)
print("reverse=")
print(1-scoreboard)


picker = PickHelper(scoreboard)
valids = list(range(len(scoreboard)))
picker.pick(valids,valids, 2,2, 5000)


picker.pick([1,2],[1,2], 1,1, 1000)



